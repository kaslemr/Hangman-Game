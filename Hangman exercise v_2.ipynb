{
 "cells": [
  {
   "cell_type": "code",
   "execution_count": 3,
   "metadata": {
    "collapsed": true
   },
   "outputs": [],
   "source": [
    "from random import choice\n",
    "import string\n",
    "\n",
    "with open (\"/usr/share/dict/words\") as infile:\n",
    "    text = infile.read()\n",
    "    text = str(text).lower().split()\n",
    "\n",
    "def generate_random_word(data):\n",
    "    game_word = choice(data)\n",
    "    return print(game_word)\n",
    "\n",
    "\n",
    "\n",
    "#def tell_word_length(word):\n",
    "   # return \n",
    "\n",
    "def start_game(x):\n",
    "    \n",
    "    guess_count = 0\n",
    "    correct_guess = 0\n",
    "    guesses_left = 8 - int(guess_count)\n",
    "    \n",
    "    game_word = generate_random_word()\n",
    "    \n",
    "    print(\"Welcome to Hangman! The word has {} letters. You have eight guesses.\".format(len(game_word)))\n",
    "   \n",
    "    for guess_count in range(0,100):\n",
    "        user_guess = str(input(\"Pick a letter, any letter: \").lower())\n",
    "        print(\"\\n\")\n",
    "        if user_guess.isalpha() == False:\n",
    "            print(\"Please choose a letter.\")\n",
    "            print(\"\\n\")\n",
    "            continue\n",
    "        if user_guess in game_word:\n",
    "            correct_guess += 1\n",
    "            print(\"The word contains {}!\".format(user_guess))\n",
    "            print(\"You have {} guesses remaining.\".format(guesses_left))\n",
    "            print(\"\\n\")\n",
    "            if correct_guess == len(game_word):\n",
    "                print(\"Congratulations, you win! The word was {}.\".format(game_word))\n",
    "                break\n",
    "            continue\n",
    "        else:\n",
    "            guess_count += 1\n",
    "            guesses_left = 8 - int(guess_count)\n",
    "            print(\"The word does not contain {}. Muahaha.\".format(user_guess))\n",
    "            if guess_count < 8:\n",
    "                print(\"You have {} guesses remaining.\".format(guesses_left))\n",
    "                print(\"\\n\")\n",
    "                continue\n",
    "            if guess_count == 8:\n",
    "                print(\"Sorry, out of guesses :(. Better luck next time.\")\n",
    "                break\n"
   ]
  },
  {
   "cell_type": "code",
   "execution_count": 21,
   "metadata": {
    "collapsed": false
   },
   "outputs": [
    {
     "name": "stdout",
     "output_type": "stream",
     "text": [
      "[1, 'a', 2, 3, False, [1, 2, 3]]\n"
     ]
    }
   ],
   "source": [
    "the_list = [\"a\", 2, 3, 1, False, [1, 2, 3]]\n",
    "the_list.pop(3)\n",
    "the_list.insert(0,1)\n",
    "print(the_list)"
   ]
  },
  {
   "cell_type": "code",
   "execution_count": 26,
   "metadata": {
    "collapsed": false
   },
   "outputs": [
    {
     "ename": "ValueError",
     "evalue": "list.remove(x): x not in list",
     "output_type": "error",
     "traceback": [
      "\u001b[0;31m---------------------------------------------------------------------------\u001b[0m",
      "\u001b[0;31mValueError\u001b[0m                                Traceback (most recent call last)",
      "\u001b[0;32m<ipython-input-26-153ebc5fb152>\u001b[0m in \u001b[0;36m<module>\u001b[0;34m()\u001b[0m\n\u001b[1;32m      2\u001b[0m \u001b[0;32mdel\u001b[0m \u001b[0mthe_list\u001b[0m\u001b[0;34m[\u001b[0m\u001b[0;36m3\u001b[0m\u001b[0;34m]\u001b[0m\u001b[0;34m\u001b[0m\u001b[0m\n\u001b[1;32m      3\u001b[0m \u001b[0;32mdel\u001b[0m \u001b[0mthe_list\u001b[0m\u001b[0;34m[\u001b[0m\u001b[0;36m4\u001b[0m\u001b[0;34m]\u001b[0m\u001b[0;34m\u001b[0m\u001b[0m\n\u001b[0;32m----> 4\u001b[0;31m \u001b[0mthe_list\u001b[0m\u001b[0;34m.\u001b[0m\u001b[0mremove\u001b[0m\u001b[0;34m(\u001b[0m\u001b[0;34m\"False\"\u001b[0m\u001b[0;34m)\u001b[0m\u001b[0;34m\u001b[0m\u001b[0m\n\u001b[0m\u001b[1;32m      5\u001b[0m \u001b[0mprint\u001b[0m\u001b[0;34m(\u001b[0m\u001b[0mthe_list\u001b[0m\u001b[0;34m)\u001b[0m\u001b[0;34m\u001b[0m\u001b[0m\n",
      "\u001b[0;31mValueError\u001b[0m: list.remove(x): x not in list"
     ]
    }
   ],
   "source": [
    "the_list = [\"a\", 2, 3, 1, False, [1, 2, 3]]\n",
    "del the_list[3]\n",
    "del the_list[4]\n",
    "the_list.remove(\"False\")\n",
    "print(the_list)"
   ]
  },
  {
   "cell_type": "code",
   "execution_count": 33,
   "metadata": {
    "collapsed": false
   },
   "outputs": [
    {
     "name": "stdout",
     "output_type": "stream",
     "text": [
      "None\n"
     ]
    }
   ],
   "source": [
    "messy_list = [5, 2, 1, 3, 4, 7, 8, 0, 9, -1]\n",
    "clean_list = messy_list[:]\n",
    "clean_list = messy_list.sort()\n",
    "print(clean_list)\n"
   ]
  },
  {
   "cell_type": "code",
   "execution_count": 36,
   "metadata": {
    "collapsed": false
   },
   "outputs": [],
   "source": [
    "def first_and_last_4(iterable):\n",
    "   return iterable[:4] and iterable[-0:]"
   ]
  },
  {
   "cell_type": "code",
   "execution_count": 37,
   "metadata": {
    "collapsed": false
   },
   "outputs": [
    {
     "data": {
      "text/plain": [
       "[7, 89, 10, 22]"
      ]
     },
     "execution_count": 37,
     "metadata": {},
     "output_type": "execute_result"
    }
   ],
   "source": [
    "iterable = [1,2,3,4,5,6,7,89,10,22]\n",
    "\n",
    "iterable[:4] and iterable[-4:]"
   ]
  },
  {
   "cell_type": "code",
   "execution_count": null,
   "metadata": {
    "collapsed": true
   },
   "outputs": [],
   "source": [
    "#Create a function named sillycase that takes a string and returns that \n",
    "# string with the first half lowercased and the last half uppercased.\n",
    "\n",
    "def sillycase(string):\n",
    "    string[]"
   ]
  }
 ],
 "metadata": {
  "kernelspec": {
   "display_name": "Python 3",
   "language": "python",
   "name": "python3"
  },
  "language_info": {
   "codemirror_mode": {
    "name": "ipython",
    "version": 3
   },
   "file_extension": ".py",
   "mimetype": "text/x-python",
   "name": "python",
   "nbconvert_exporter": "python",
   "pygments_lexer": "ipython3",
   "version": "3.5.0"
  }
 },
 "nbformat": 4,
 "nbformat_minor": 0
}
