{
 "cells": [
  {
   "cell_type": "code",
   "execution_count": 3,
   "metadata": {
    "collapsed": true
   },
   "outputs": [],
   "source": [
    "from random import choice\n",
    "import string\n",
    "\n",
    "with open (\"/usr/share/dict/words\") as infile:\n",
    "    text = infile.read()\n",
    "    text = str(text).lower().split()\n",
    "\n",
    "def generate_random_word(data):\n",
    "    game_word = choice(data)\n",
    "    return print(game_word)\n",
    "\n",
    "\n",
    "\n",
    "#def tell_word_length(word):\n",
    "   # return \n",
    "\n",
    "def start_game(x):\n",
    "    \n",
    "    guess_count = 0\n",
    "    correct_guess = 0\n",
    "    guesses_left = 8 - int(guess_count)\n",
    "    \n",
    "    game_word = generate_random_word()\n",
    "    \n",
    "    print(\"Welcome to Hangman! The word has {} letters. You have eight guesses.\".format(len(game_word)))\n",
    "   \n",
    "    for guess_count in range(0,100):\n",
    "        user_guess = str(input(\"Pick a letter, any letter: \").lower())\n",
    "        print(\"\\n\")\n",
    "        if user_guess.isalpha() == False:\n",
    "            print(\"Please choose a letter.\")\n",
    "            print(\"\\n\")\n",
    "            continue\n",
    "        if user_guess in game_word:\n",
    "            correct_guess += 1\n",
    "            print(\"The word contains {}!\".format(user_guess))\n",
    "            print(\"You have {} guesses remaining.\".format(guesses_left))\n",
    "            print(\"\\n\")\n",
    "            if correct_guess == len(game_word):\n",
    "                print(\"Congratulations, you win! The word was {}.\".format(game_word))\n",
    "                break\n",
    "            continue\n",
    "        else:\n",
    "            guess_count += 1\n",
    "            guesses_left = 8 - int(guess_count)\n",
    "            print(\"The word does not contain {}. Muahaha.\".format(user_guess))\n",
    "            if guess_count < 8:\n",
    "                print(\"You have {} guesses remaining.\".format(guesses_left))\n",
    "                print(\"\\n\")\n",
    "                continue\n",
    "            if guess_count == 8:\n",
    "                print(\"Sorry, out of guesses :(. Better luck next time.\")\n",
    "                break\n"
   ]
  },
  {
   "cell_type": "code",
   "execution_count": null,
   "metadata": {
    "collapsed": true
   },
   "outputs": [],
   "source": []
  }
 ],
 "metadata": {
  "kernelspec": {
   "display_name": "Python 3",
   "language": "python",
   "name": "python3"
  },
  "language_info": {
   "codemirror_mode": {
    "name": "ipython",
    "version": 3
   },
   "file_extension": ".py",
   "mimetype": "text/x-python",
   "name": "python",
   "nbconvert_exporter": "python",
   "pygments_lexer": "ipython3",
   "version": "3.5.0"
  }
 },
 "nbformat": 4,
 "nbformat_minor": 0
}
